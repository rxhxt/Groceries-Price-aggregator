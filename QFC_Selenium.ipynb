{
 "cells": [
  {
   "cell_type": "code",
   "execution_count": 12,
   "id": "6396cbb5",
   "metadata": {},
   "outputs": [],
   "source": [
    "from selenium import webdriver \n",
    "from selenium.webdriver.common.keys import Keys \n",
    "import time "
   ]
  },
  {
   "cell_type": "code",
   "execution_count": 27,
   "id": "d1b821c7",
   "metadata": {},
   "outputs": [],
   "source": [
    "# create instance of Chrome webdriver \n",
    "driver=webdriver.Chrome()  \n",
    "driver.get(\"https://www.qfc.com/\")\n",
    "time.sleep(4)\n",
    "# find the element where we have to   \n",
    "# enter the xpath \n",
    "# target mobile number, change it to victim's number and  \n",
    "# also ensure that it's registered on flipkart \n",
    "driver.find_element(\"xpath\",\"//input[contains(@id,'SearchBar-input')]\").send_keys('milk ')\n",
    "time.sleep(4)\n",
    "\n",
    "driver.find_element(\"xpath\",\"//input[contains(@id,'SearchBar-input-open')]\").send_keys(Keys.ENTER)\n",
    "\n",
    "# driver.find_element(\"xpath\",'//*[@class =\"kds-Icon kds-Icon--utilityMedium kds-FormField-icon\"]').click() \n",
    "# find the element to send a forgot password  \n",
    "# request using xpath  \n",
    "\n",
    "# driver.find_element_by_xpath('//*[@id=\"auth-fpp-link-bottom\"]').click() \n",
    "# driver.find_element_by_xpath('//*[@id=\"continue\"]').click() \n",
    "\n",
    "# set the interval to send each sms \n",
    "time.sleep(4) \n",
    "driver.refresh();\n",
    "time.sleep(4) \n",
    "\n",
    "# Close the browser \n",
    "driver.close() "
   ]
  },
  {
   "cell_type": "code",
   "execution_count": null,
   "id": "6fce4f9c",
   "metadata": {},
   "outputs": [],
   "source": []
  }
 ],
 "metadata": {
  "kernelspec": {
   "display_name": "Python 3 (ipykernel)",
   "language": "python",
   "name": "python3"
  },
  "language_info": {
   "codemirror_mode": {
    "name": "ipython",
    "version": 3
   },
   "file_extension": ".py",
   "mimetype": "text/x-python",
   "name": "python",
   "nbconvert_exporter": "python",
   "pygments_lexer": "ipython3",
   "version": "3.11.4"
  }
 },
 "nbformat": 4,
 "nbformat_minor": 5
}
